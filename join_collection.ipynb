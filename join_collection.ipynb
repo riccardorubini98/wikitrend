{
  "nbformat": 4,
  "nbformat_minor": 0,
  "metadata": {
    "colab": {
      "name": "join_collection.ipynb",
      "provenance": [],
      "collapsed_sections": []
    },
    "kernelspec": {
      "name": "python3",
      "display_name": "Python 3"
    },
    "language_info": {
      "name": "python"
    }
  },
  "cells": [
    {
      "cell_type": "code",
      "metadata": {
        "id": "t-OIq-o3IDs7"
      },
      "source": [
        "pip install dnspython"
      ],
      "execution_count": null,
      "outputs": []
    },
    {
      "cell_type": "markdown",
      "metadata": {
        "id": "E-0aZUMrIRai"
      },
      "source": [
        "# Join collection"
      ]
    },
    {
      "cell_type": "markdown",
      "metadata": {
        "id": "yQR1amyvIXrx"
      },
      "source": [
        "## Importo librerie necessarie"
      ]
    },
    {
      "cell_type": "code",
      "metadata": {
        "id": "01ueRhFuINYB"
      },
      "source": [
        "from pymongo import MongoClient\n",
        "import time as time\n",
        "from tqdm.notebook import tqdm"
      ],
      "execution_count": null,
      "outputs": []
    },
    {
      "cell_type": "markdown",
      "metadata": {
        "id": "qc1b3SzUWZfq"
      },
      "source": [
        "# Merge pagina singola"
      ]
    },
    {
      "cell_type": "code",
      "metadata": {
        "id": "GYSnZMxvK9no"
      },
      "source": [
        "# Connect mongodb atlas\n",
        "from pymongo import MongoClient\n",
        "access_token = \"\"\n",
        "client = MongoClient(access_token)\n",
        "db = client.get_database('wikitrend')\n",
        "pages = db.pages_full"
      ],
      "execution_count": null,
      "outputs": []
    },
    {
      "cell_type": "code",
      "metadata": {
        "id": "OdrUcdfJLF17"
      },
      "source": [
        "start = time.perf_counter()\n",
        "# lookup pipline\n",
        "result = db.page_topic.aggregate([\n",
        "    {\n",
        "        '$lookup': {\n",
        "            'from': 'info_pages', \n",
        "            'localField': '_id', \n",
        "            'foreignField': '_id', \n",
        "            'as': 'page_info'\n",
        "        }\n",
        "    }\n",
        "])\n",
        "result = list(result)\n",
        "# clean document\n",
        "for articolo in result:\n",
        "  page_info = articolo['page_info'][0]\n",
        "  del page_info[\"article\"]\n",
        "  del page_info[\"_id\"]\n",
        "  del articolo['page_info']\n",
        "  articolo.update(page_info)\n",
        "# upload document\n",
        "pages.insert_many(result)\n",
        "fin = time.perf_counter() - start\n",
        "print(fin)"
      ],
      "execution_count": null,
      "outputs": []
    },
    {
      "cell_type": "markdown",
      "metadata": {
        "id": "ZDjMhRgfWbdc"
      },
      "source": [
        "# Merge top pages"
      ]
    },
    {
      "cell_type": "code",
      "metadata": {
        "id": "5zsTJvT5Wd8t"
      },
      "source": [
        "# Connect mongodb atlas\n",
        "from pymongo import MongoClient\n",
        "access_token = \"\"\n",
        "client = MongoClient(access_token)\n",
        "db = client.get_database('wikitrend')\n",
        "top_pages = db.top_pages.find()\n",
        "top_pages_full = db.top_pages_full\n",
        "page_topic = db.page_topic"
      ],
      "execution_count": null,
      "outputs": []
    },
    {
      "cell_type": "code",
      "metadata": {
        "id": "s7ATdHOQXIeQ"
      },
      "source": [
        "top_pages = list(top_pages)"
      ],
      "execution_count": null,
      "outputs": []
    },
    {
      "cell_type": "code",
      "metadata": {
        "id": "gB-6W4-jZB1v"
      },
      "source": [
        "start = time.perf_counter()\n",
        "for doc in tqdm(top_pages):\n",
        "  # extract array\n",
        "  pagine_mese = doc[\"top_month\"]\n",
        "  pagine_giorno = doc[\"top_day\"]\n",
        "  # create auxilary collections\n",
        "  mese_coll = db.mese_coll\n",
        "  day_coll = db.dey_coll\n",
        "  mese_coll.insert_many(pagine_mese)\n",
        "  day_coll.insert_many(pagine_giorno)\n",
        "  # join top_month with page_topic\n",
        "  join_mese = mese_coll.aggregate([\n",
        "    {\n",
        "        '$lookup': {\n",
        "            'from': 'page_topic', \n",
        "            'localField': 'page_id', \n",
        "            'foreignField': '_id', \n",
        "            'as': 'cat_list'\n",
        "        }\n",
        "    }\n",
        "  ])\n",
        "  join_mese = list(join_mese)\n",
        "  # join top_day with page_topic\n",
        "  join_giorno = day_coll.aggregate([\n",
        "    {\n",
        "        '$lookup': {\n",
        "            'from': 'page_topic', \n",
        "            'localField': 'page_id', \n",
        "            'foreignField': '_id', \n",
        "            'as': 'cat_list'\n",
        "        }\n",
        "    }\n",
        "  ])\n",
        "  join_giorno = list(join_giorno)  \n",
        "  # delete auxialary collections\n",
        "  mese_coll.drop()\n",
        "  day_coll.drop()\n",
        "  # extract main attribute\n",
        "  for articolo in join_mese:\n",
        "    try:\n",
        "      articolo[\"category\"] = articolo[\"cat_list\"][0][\"category\"]\n",
        "    except:\n",
        "      pass\n",
        "    try:\n",
        "      articolo[\"page_type\"] = articolo[\"cat_list\"][0][\"page_type\"]\n",
        "    except:\n",
        "      pass\n",
        "    try:\n",
        "      articolo[\"description\"] = articolo[\"cat_list\"][0][\"description\"]\n",
        "    except:\n",
        "      pass\n",
        "    del articolo[\"cat_list\"]\n",
        "    del articolo[\"_id\"]\n",
        "  for articolo in join_giorno:\n",
        "    try:\n",
        "      articolo[\"category\"] = articolo[\"cat_list\"][0][\"category\"]\n",
        "    except:\n",
        "      pass\n",
        "    try:\n",
        "      articolo[\"page_type\"] = articolo[\"cat_list\"][0][\"page_type\"]\n",
        "    except:\n",
        "      pass\n",
        "    try:\n",
        "      articolo[\"description\"] = articolo[\"cat_list\"][0][\"description\"]\n",
        "    except:\n",
        "      pass\n",
        "    del articolo[\"cat_list\"]\n",
        "    del articolo[\"_id\"]\n",
        "  doc[\"top_month\"] = join_mese\n",
        "  doc[\"top_day\"] = join_giorno\n",
        "  # upload doc\n",
        "  top_pages_full.insert_one(doc)\n",
        "fin = time.perf_counter() - start\n",
        "print(fin)\n"
      ],
      "execution_count": null,
      "outputs": []
    }
  ]
}