{
  "nbformat": 4,
  "nbformat_minor": 0,
  "metadata": {
    "colab": {
      "name": "top_pages.ipynb",
      "provenance": []
    },
    "kernelspec": {
      "name": "python3",
      "display_name": "Python 3"
    },
    "language_info": {
      "name": "python"
    }
  },
  "cells": [
    {
      "cell_type": "markdown",
      "metadata": {
        "id": "KjqEhUnUXnQi"
      },
      "source": [
        "# Articoli più cercati su wikipedia per ogni mese\n",
        "Ogni documento è costitutito dal mese e anno di riferimento (dal 2016 al 2020), dalle prime 500 pagine (senza contare pagine propietarie di wikipedia non di nostro interesse) più viste in quel periodo per la wikipedia inglese/internazionale e infine la pagina più vista per ciascun giorno di quel mese.\n",
        "\n",
        "Ciascuna pagina è rappresentata da un documento json il quale ha come attributi il titolo, il page_id di riferimento e il numero di visualizzazioni nell'arco temporale di riferimento (mese o giorno a seconda dei casi).\n",
        "\n",
        "I dati sono ottenuti tramite l'apposita [API](https://wikitech.wikimedia.org/wiki/Analytics/AQS/Pageviews) all'end point *pageviews/top/en.wikipedia*.\n",
        "Il *page_id* è ricavato dall'API di *en.wikipedia*."
      ]
    },
    {
      "cell_type": "markdown",
      "metadata": {
        "id": "H9mqQO5JExQk"
      },
      "source": [
        "## Carico funzioni e librerie necessarie\n",
        "Alcune funzioni sono presenti nella repository github del progetto al seguente [link](https://github.com/riccardorubini98/wikitrend)."
      ]
    },
    {
      "cell_type": "code",
      "metadata": {
        "id": "q9yden7ZFM_l"
      },
      "source": [
        "pip install dnspython"
      ],
      "execution_count": null,
      "outputs": []
    },
    {
      "cell_type": "code",
      "metadata": {
        "id": "9nsvNWgqFS6b",
        "colab": {
          "base_uri": "https://localhost:8080/"
        },
        "outputId": "a06479f9-f3c3-4d6b-df7a-765207c2d8ec"
      },
      "source": [
        "import requests\n",
        "import time as time\n",
        "from tqdm.notebook import tqdm\n",
        "from requests.exceptions import ConnectionError\n",
        "# Import github repository\n",
        "!git clone https://github.com/riccardorubini98/wikitrend.git\n",
        "import sys\n",
        "sys.path.append(\"/content/wikitrend/\")\n",
        "import toppage_function as tp"
      ],
      "execution_count": 2,
      "outputs": [
        {
          "output_type": "stream",
          "text": [
            "fatal: destination path 'wikitrend' already exists and is not an empty directory.\n"
          ],
          "name": "stdout"
        }
      ]
    },
    {
      "cell_type": "markdown",
      "metadata": {
        "id": "SlA3eGJaIFK0"
      },
      "source": [
        "# Collegamento a MongoDB\n",
        "Collegamento a MongoDB Atlas e download della collezione contente le pagine più visitate mese per mese."
      ]
    },
    {
      "cell_type": "code",
      "metadata": {
        "id": "FsaLXi8lIaK1"
      },
      "source": [
        "# Connect mongodb atlas\n",
        "from pymongo import MongoClient\n",
        "access_token = \"\"\n",
        "client = MongoClient(access_token)\n",
        "db = client.get_database('wikitrend')\n",
        "record = db.page_topic # new collection for single pages"
      ],
      "execution_count": null,
      "outputs": []
    },
    {
      "cell_type": "markdown",
      "metadata": {
        "id": "JoEd0vwAZQtX"
      },
      "source": [
        "# Creo loop per ottenere le pagine più viste"
      ]
    },
    {
      "cell_type": "code",
      "metadata": {
        "id": "wNnGzwfXZ3_W"
      },
      "source": [
        "#### Creo liste per giorni in ciascun mese ####\n",
        "months = []\n",
        "for i in range(1,13):\n",
        "  mese = str(i).zfill(2)\n",
        "  months.append(mese)\n",
        "# giorni\n",
        "day_30 = []\n",
        "for i in range(1,31):\n",
        "  giorno = str(i).zfill(2)\n",
        "  day_30.append(giorno)\n",
        "\n",
        "day_31 = []\n",
        "for i in range(1,32):\n",
        "  giorno = str(i).zfill(2)\n",
        "  day_31.append(giorno)\n",
        "\n",
        "day_28=[]\n",
        "for i in range(1,29):\n",
        "  giorno = str(i).zfill(2)\n",
        "  day_28.append(giorno)\n",
        "\n",
        "day_29=[]\n",
        "for i in range(1,30):\n",
        "  giorno = str(i).zfill(2)\n",
        "  day_29.append(giorno)"
      ],
      "execution_count": 3,
      "outputs": []
    },
    {
      "cell_type": "code",
      "metadata": {
        "id": "11ZcmGvFaD0N"
      },
      "source": [
        "for year in [\"2016\",\"2017\",\"2018\",\"2019\",\"2020\"]:\n",
        "    print(\"Year: \", year)\n",
        "    for month in tqdm(months):\n",
        "        top_page = {}\n",
        "        top_page[\"_id\"] = int(year+month) # es _id september 2020 -> {\"_id\":202009}\n",
        "        top_page[\"year\"] = int(year)\n",
        "        top_page[\"month\"] = int(month)\n",
        "        # Get first 500 pages\n",
        "        top_month = tp.get_topart(year,month,\"all-days\",500)\n",
        "        # adding ids\n",
        "        s = requests.session()\n",
        "        for articolo in tqdm(top_month,desc='Adding ids \\n'):\n",
        "          url = tp.api_id(articolo[\"article\"])\n",
        "          # make api call\n",
        "          i=0\n",
        "          not_found=True\n",
        "          while i <30 and not_found:\n",
        "              try:\n",
        "                  r = s.get(url=url,timeout=20)\n",
        "                  not_found=False\n",
        "              except ConnectionError:\n",
        "                  time.sleep(1)\n",
        "                  i += 1\n",
        "          r= r.json()\n",
        "          # Adding id to page document\n",
        "          articolo[\"page_id\"] = tp.get_pageid(r)\n",
        "\n",
        "        top_page[\"top_month\"] = top_month\n",
        "\n",
        "        # Top page for each day\n",
        "        top_day = []\n",
        "        if month in [\"01\",\"03\",\"05\",\"07\",\"08\",\"10\",\"12\"]:\n",
        "            top_day = tp.get_topday(year,month,day_31)\n",
        "            top_page[\"top_day\"] = top_day\n",
        "        elif month in [\"04\",\"06\",\"09\",\"11\"]:\n",
        "            top_day = tp.get_topday(year,month,day_30)\n",
        "        # anni bisestili\n",
        "        elif month == \"02\" and year in [\"2016\",\"2020\"]:\n",
        "            top_day = tp.get_topday(year,month,day_29)\n",
        "        # anni non bisestili\n",
        "        else:\n",
        "            top_day = tp.get_topday(year,month,day_28)\n",
        "        top_page[\"top_day\"] = top_day\n",
        "        # Upload to MongoDB\n",
        "        records.insert_one(top_page)"
      ],
      "execution_count": null,
      "outputs": []
    }
  ]
}