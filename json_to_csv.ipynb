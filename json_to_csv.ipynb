{
  "nbformat": 4,
  "nbformat_minor": 0,
  "metadata": {
    "colab": {
      "name": "json_to_csv.ipynb",
      "provenance": []
    },
    "kernelspec": {
      "name": "python3",
      "display_name": "Python 3"
    },
    "language_info": {
      "name": "python"
    }
  },
  "cells": [
    {
      "cell_type": "markdown",
      "metadata": {
        "id": "Ksm0gKuP8Z3E"
      },
      "source": [
        "# Json to csv\n",
        "Converto le collezioni presenti su MongoDB in file csv per l'utilizzo in Tableau"
      ]
    },
    {
      "cell_type": "markdown",
      "metadata": {
        "id": "E-6RpNzJ9AKl"
      },
      "source": [
        "## Carico librerie necessarie"
      ]
    },
    {
      "cell_type": "code",
      "metadata": {
        "id": "t-OIq-o3IDs7"
      },
      "source": [
        "pip install dnspython"
      ],
      "execution_count": null,
      "outputs": []
    },
    {
      "cell_type": "code",
      "metadata": {
        "id": "01ueRhFuINYB"
      },
      "source": [
        "from pymongo import MongoClient\n",
        "import time as time\n",
        "from tqdm.notebook import tqdm\n",
        "import csv"
      ],
      "execution_count": 5,
      "outputs": []
    },
    {
      "cell_type": "code",
      "metadata": {
        "id": "GYSnZMxvK9no"
      },
      "source": [
        "# Connect mongodb atlas\n",
        "from pymongo import MongoClient\n",
        "access_token = \"\"\n",
        "client = MongoClient(access_token)\n",
        "db = client.get_database('wikitrend')\n",
        "top_pages = db.top_pages_full\n",
        "pages = db.pages_full"
      ],
      "execution_count": 6,
      "outputs": []
    },
    {
      "cell_type": "markdown",
      "metadata": {
        "id": "TfJ5RBfx8z_h"
      },
      "source": [
        "## Top_pages_full collection"
      ]
    },
    {
      "cell_type": "code",
      "metadata": {
        "id": "FSSccQeT9eYp"
      },
      "source": [
        "top_pages = list(top_pages.find())"
      ],
      "execution_count": 7,
      "outputs": []
    },
    {
      "cell_type": "code",
      "metadata": {
        "id": "zVGseEQq9neh"
      },
      "source": [
        "# create csv file\n",
        "with open('top_pages_full.csv', 'w', newline='', encoding=\"utf-8\") as file:\n",
        "    writer = csv.writer(file)\n",
        "    writer.writerow([\"_id\",\"year\",\"month\",\"day\",\"time_span\",\"title\",\"page_id\",\"page_url\",\"views\",\"category\",\"page_type\",\"description\",\"ranking\"])\n",
        "    for doc in top_pages:\n",
        "      # main attribute\n",
        "      _id = doc[\"_id\"]\n",
        "      year = doc[\"year\"]\n",
        "      month = doc[\"month\"]\n",
        "      ranking = 0\n",
        "      # top_month pages\n",
        "      for articolo in doc[\"top_month\"]:\n",
        "        ranking += 1\n",
        "        title = articolo[\"article\"]\n",
        "        page_id = articolo[\"page_id\"]\n",
        "        views = articolo[\"views\"]\n",
        "        if \"page_type\" in articolo.keys():\n",
        "          page_type = articolo[\"page_type\"]\n",
        "        else:\n",
        "          page_type = \"other\"\n",
        "        if \"category\" in articolo.keys():\n",
        "          category = articolo[\"category\"]\n",
        "        else:\n",
        "          category = \"other\"\n",
        "        if \"description\" in articolo.keys():\n",
        "          description = articolo[\"description\"]\n",
        "        else:\n",
        "          description = None\n",
        "        url = \"en.wikipedia.org/wiki/\"+title\n",
        "        writer.writerow([_id,year,month,None,\"monthly\",title,page_id,url,views,category,page_type,description,ranking])\n",
        "      # top_day pages\n",
        "      for articolo in doc[\"top_day\"]:\n",
        "        ranking += 1\n",
        "        title = articolo[\"article\"]\n",
        "        page_id = articolo[\"page_id\"]\n",
        "        views = articolo[\"views\"]\n",
        "        if \"page_type\" in articolo.keys():\n",
        "          page_type = articolo[\"page_type\"]\n",
        "        else:\n",
        "          page_type = \"other\"\n",
        "        if \"category\" in articolo.keys():\n",
        "          category = articolo[\"category\"]\n",
        "        else:\n",
        "          category = \"other\"\n",
        "        if \"description\" in articolo.keys():\n",
        "          description = articolo[\"description\"]\n",
        "        else:\n",
        "          description = None\n",
        "        url = \"en.wikipedia.org/wiki/\"+title\n",
        "        writer.writerow([_id,year,month,articolo[\"day_of_month\"],\"daily\",title,page_id,url,views,category,page_type,description,None])\n",
        "                \n",
        "        "
      ],
      "execution_count": 11,
      "outputs": []
    },
    {
      "cell_type": "markdown",
      "metadata": {
        "id": "yvxN8hz7FXyh"
      },
      "source": [
        "## Pages_full collection"
      ]
    },
    {
      "cell_type": "code",
      "metadata": {
        "id": "3g1bx4ulFcTw"
      },
      "source": [
        "pages = list(pages.find())"
      ],
      "execution_count": 12,
      "outputs": []
    },
    {
      "cell_type": "code",
      "metadata": {
        "id": "y0RwxulKFgFt"
      },
      "source": [
        "with open('single_pages_full.csv', 'w', newline='', encoding=\"utf-8\") as file:\n",
        "    writer = csv.writer(file)\n",
        "    writer.writerow([\"page_id\",\"url\",\"title\",\"page_type\",\"category\",\"avg_views\",\"avg_edits\",\"words\",\"creation_year\",\"description\"])\n",
        "    for articolo in pages:\n",
        "        title = articolo[\"article\"]\n",
        "        page_id = articolo[\"_id\"]\n",
        "        if \"mean_views\" in articolo.keys():\n",
        "          avg_views = articolo[\"mean_views\"]\n",
        "        else:\n",
        "          avg_views = None\n",
        "        if \"mean_edits\" in articolo.keys():\n",
        "          avg_edits = articolo[\"mean_edits\"]\n",
        "        else:\n",
        "          avg_edits = None\n",
        "        if \"words\" in articolo.keys():\n",
        "          words = articolo[\"words\"]\n",
        "        else:\n",
        "          words = None\n",
        "        if \"y_of_creation\" in articolo.keys():\n",
        "          creation_year = articolo[\"y_of_creation\"]\n",
        "        else:\n",
        "          creation_year = None\n",
        "        if \"page_type\" in articolo.keys():\n",
        "          page_type = articolo[\"page_type\"]\n",
        "        else:\n",
        "          page_type = \"other\"\n",
        "        if \"category\" in articolo.keys():\n",
        "          category = articolo[\"category\"]\n",
        "        else:\n",
        "          category = \"other\"\n",
        "        if \"description\" in articolo.keys():\n",
        "          description = articolo[\"description\"]\n",
        "        else:\n",
        "          description = None\n",
        "        url = \"en.wikipedia.org/wiki/\"+title\n",
        "        writer.writerow([page_id,url,title,page_type,category,avg_views,avg_edits,words,creation_year,description])"
      ],
      "execution_count": 15,
      "outputs": []
    }
  ]
}