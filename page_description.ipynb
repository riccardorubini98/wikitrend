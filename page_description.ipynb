{
  "nbformat": 4,
  "nbformat_minor": 0,
  "metadata": {
    "colab": {
      "name": "page_description.ipynb",
      "provenance": [],
      "collapsed_sections": []
    },
    "kernelspec": {
      "name": "python3",
      "display_name": "Python 3"
    },
    "language_info": {
      "name": "python"
    },
    "widgets": {
      "application/vnd.jupyter.widget-state+json": {
        "c4d26c75848d4ddcb3596ca67c856f9a": {
          "model_module": "@jupyter-widgets/controls",
          "model_name": "HBoxModel",
          "state": {
            "_view_name": "HBoxView",
            "_dom_classes": [],
            "_model_name": "HBoxModel",
            "_view_module": "@jupyter-widgets/controls",
            "_model_module_version": "1.5.0",
            "_view_count": null,
            "_view_module_version": "1.5.0",
            "box_style": "",
            "layout": "IPY_MODEL_6614c6fafe5f42dab0a61596ace27f4d",
            "_model_module": "@jupyter-widgets/controls",
            "children": [
              "IPY_MODEL_04bc489112f54464a72876cfe85a8ba1",
              "IPY_MODEL_a14b8b8775004863af1ce5a1d9c949df"
            ]
          }
        },
        "6614c6fafe5f42dab0a61596ace27f4d": {
          "model_module": "@jupyter-widgets/base",
          "model_name": "LayoutModel",
          "state": {
            "_view_name": "LayoutView",
            "grid_template_rows": null,
            "right": null,
            "justify_content": null,
            "_view_module": "@jupyter-widgets/base",
            "overflow": null,
            "_model_module_version": "1.2.0",
            "_view_count": null,
            "flex_flow": null,
            "width": null,
            "min_width": null,
            "border": null,
            "align_items": null,
            "bottom": null,
            "_model_module": "@jupyter-widgets/base",
            "top": null,
            "grid_column": null,
            "overflow_y": null,
            "overflow_x": null,
            "grid_auto_flow": null,
            "grid_area": null,
            "grid_template_columns": null,
            "flex": null,
            "_model_name": "LayoutModel",
            "justify_items": null,
            "grid_row": null,
            "max_height": null,
            "align_content": null,
            "visibility": null,
            "align_self": null,
            "height": null,
            "min_height": null,
            "padding": null,
            "grid_auto_rows": null,
            "grid_gap": null,
            "max_width": null,
            "order": null,
            "_view_module_version": "1.2.0",
            "grid_template_areas": null,
            "object_position": null,
            "object_fit": null,
            "grid_auto_columns": null,
            "margin": null,
            "display": null,
            "left": null
          }
        },
        "04bc489112f54464a72876cfe85a8ba1": {
          "model_module": "@jupyter-widgets/controls",
          "model_name": "FloatProgressModel",
          "state": {
            "_view_name": "ProgressView",
            "style": "IPY_MODEL_0288d93a43f94a83944fbda308b52119",
            "_dom_classes": [],
            "description": "Getting description: ",
            "_model_name": "FloatProgressModel",
            "bar_style": "success",
            "max": 1,
            "_view_module": "@jupyter-widgets/controls",
            "_model_module_version": "1.5.0",
            "value": 1,
            "_view_count": null,
            "_view_module_version": "1.5.0",
            "orientation": "horizontal",
            "min": 0,
            "description_tooltip": null,
            "_model_module": "@jupyter-widgets/controls",
            "layout": "IPY_MODEL_62f59d57e65c4084b342d7ba009fc4f6"
          }
        },
        "a14b8b8775004863af1ce5a1d9c949df": {
          "model_module": "@jupyter-widgets/controls",
          "model_name": "HTMLModel",
          "state": {
            "_view_name": "HTMLView",
            "style": "IPY_MODEL_b0948f7be58c42c982e122bfaa6f958e",
            "_dom_classes": [],
            "description": "",
            "_model_name": "HTMLModel",
            "placeholder": "​",
            "_view_module": "@jupyter-widgets/controls",
            "_model_module_version": "1.5.0",
            "value": " 9207/? [28:49&lt;00:00,  5.32it/s]",
            "_view_count": null,
            "_view_module_version": "1.5.0",
            "description_tooltip": null,
            "_model_module": "@jupyter-widgets/controls",
            "layout": "IPY_MODEL_1b1d62ce4b2542658eff24a6bf3a3b64"
          }
        },
        "0288d93a43f94a83944fbda308b52119": {
          "model_module": "@jupyter-widgets/controls",
          "model_name": "ProgressStyleModel",
          "state": {
            "_view_name": "StyleView",
            "_model_name": "ProgressStyleModel",
            "description_width": "initial",
            "_view_module": "@jupyter-widgets/base",
            "_model_module_version": "1.5.0",
            "_view_count": null,
            "_view_module_version": "1.2.0",
            "bar_color": null,
            "_model_module": "@jupyter-widgets/controls"
          }
        },
        "62f59d57e65c4084b342d7ba009fc4f6": {
          "model_module": "@jupyter-widgets/base",
          "model_name": "LayoutModel",
          "state": {
            "_view_name": "LayoutView",
            "grid_template_rows": null,
            "right": null,
            "justify_content": null,
            "_view_module": "@jupyter-widgets/base",
            "overflow": null,
            "_model_module_version": "1.2.0",
            "_view_count": null,
            "flex_flow": null,
            "width": null,
            "min_width": null,
            "border": null,
            "align_items": null,
            "bottom": null,
            "_model_module": "@jupyter-widgets/base",
            "top": null,
            "grid_column": null,
            "overflow_y": null,
            "overflow_x": null,
            "grid_auto_flow": null,
            "grid_area": null,
            "grid_template_columns": null,
            "flex": null,
            "_model_name": "LayoutModel",
            "justify_items": null,
            "grid_row": null,
            "max_height": null,
            "align_content": null,
            "visibility": null,
            "align_self": null,
            "height": null,
            "min_height": null,
            "padding": null,
            "grid_auto_rows": null,
            "grid_gap": null,
            "max_width": null,
            "order": null,
            "_view_module_version": "1.2.0",
            "grid_template_areas": null,
            "object_position": null,
            "object_fit": null,
            "grid_auto_columns": null,
            "margin": null,
            "display": null,
            "left": null
          }
        },
        "b0948f7be58c42c982e122bfaa6f958e": {
          "model_module": "@jupyter-widgets/controls",
          "model_name": "DescriptionStyleModel",
          "state": {
            "_view_name": "StyleView",
            "_model_name": "DescriptionStyleModel",
            "description_width": "",
            "_view_module": "@jupyter-widgets/base",
            "_model_module_version": "1.5.0",
            "_view_count": null,
            "_view_module_version": "1.2.0",
            "_model_module": "@jupyter-widgets/controls"
          }
        },
        "1b1d62ce4b2542658eff24a6bf3a3b64": {
          "model_module": "@jupyter-widgets/base",
          "model_name": "LayoutModel",
          "state": {
            "_view_name": "LayoutView",
            "grid_template_rows": null,
            "right": null,
            "justify_content": null,
            "_view_module": "@jupyter-widgets/base",
            "overflow": null,
            "_model_module_version": "1.2.0",
            "_view_count": null,
            "flex_flow": null,
            "width": null,
            "min_width": null,
            "border": null,
            "align_items": null,
            "bottom": null,
            "_model_module": "@jupyter-widgets/base",
            "top": null,
            "grid_column": null,
            "overflow_y": null,
            "overflow_x": null,
            "grid_auto_flow": null,
            "grid_area": null,
            "grid_template_columns": null,
            "flex": null,
            "_model_name": "LayoutModel",
            "justify_items": null,
            "grid_row": null,
            "max_height": null,
            "align_content": null,
            "visibility": null,
            "align_self": null,
            "height": null,
            "min_height": null,
            "padding": null,
            "grid_auto_rows": null,
            "grid_gap": null,
            "max_width": null,
            "order": null,
            "_view_module_version": "1.2.0",
            "grid_template_areas": null,
            "object_position": null,
            "object_fit": null,
            "grid_auto_columns": null,
            "margin": null,
            "display": null,
            "left": null
          }
        }
      }
    }
  },
  "cells": [
    {
      "cell_type": "markdown",
      "metadata": {
        "id": "xKgh5EVm_5DM"
      },
      "source": [
        "# Aggiungo descrizione pagina\n",
        "Per le pagine che presentano un nodo wikidata associato aggiungo la descrizione del nodo ottenuta tramite l'apposita API, richiamando la proprietà *descriptions*.\n",
        "Prendendo ad esempio la pagina relativa a David Bowie la descrizione associata è : *British singer, musician, and actor (1947-2016)*"
      ]
    },
    {
      "cell_type": "code",
      "metadata": {
        "id": "zEw8f3Se_O6s"
      },
      "source": [
        "pip install dnspython"
      ],
      "execution_count": null,
      "outputs": []
    },
    {
      "cell_type": "code",
      "metadata": {
        "id": "vPXAD1L29Q9R"
      },
      "source": [
        "import requests\n",
        "import time as time\n",
        "from tqdm.notebook import tqdm\n",
        "from requests.exceptions import ConnectionError"
      ],
      "execution_count": 1,
      "outputs": []
    },
    {
      "cell_type": "code",
      "metadata": {
        "id": "muFvQcxV9EPW"
      },
      "source": [
        "# Connect mongodb atlas\n",
        "from pymongo import MongoClient\n",
        "access_token = \"\"\n",
        "client = MongoClient(access_token)\n",
        "db = client.get_database('wikitrend')\n",
        "pages = db.page_topic.find() # new collection for single pages"
      ],
      "execution_count": 5,
      "outputs": []
    },
    {
      "cell_type": "code",
      "metadata": {
        "colab": {
          "base_uri": "https://localhost:8080/",
          "height": 66,
          "referenced_widgets": [
            "c4d26c75848d4ddcb3596ca67c856f9a",
            "6614c6fafe5f42dab0a61596ace27f4d",
            "04bc489112f54464a72876cfe85a8ba1",
            "a14b8b8775004863af1ce5a1d9c949df",
            "0288d93a43f94a83944fbda308b52119",
            "62f59d57e65c4084b342d7ba009fc4f6",
            "b0948f7be58c42c982e122bfaa6f958e",
            "1b1d62ce4b2542658eff24a6bf3a3b64"
          ]
        },
        "id": "0gE4ZN6B9P0E",
        "outputId": "2d0d2627-775e-4bed-e941-57d9cb41a660"
      },
      "source": [
        "# adding description to page with wikidata node associated\n",
        "s = requests.session()\n",
        "for page in tqdm(pages, desc = \"Getting description\"):\n",
        "  if \"wikidata_id\" in page.keys():\n",
        "      wikidata_id = page[\"wikidata_id\"]\n",
        "      if wikidata_id != None:\n",
        "        # bulding api url\n",
        "        url = \"https://www.wikidata.org/w/api.php?action=wbgetentities&props=descriptions&languages=en&format=json&ids=\"+wikidata_id\n",
        "        # make api call\n",
        "        i=0\n",
        "        not_found=True\n",
        "        while i <30 and not_found:\n",
        "            try:\n",
        "                r = s.get(url=url,timeout=20)\n",
        "                not_found=False\n",
        "            except ConnectionError:\n",
        "                time.sleep(1)\n",
        "                i += 1\n",
        "        risultato = r.json()\n",
        "        risultato = risultato[\"entities\"]\n",
        "        wikidata_id = list(risultato.keys())[0]\n",
        "        try:\n",
        "          description = risultato[wikidata_id][\"descriptions\"][\"en\"][\"value\"]\n",
        "          # updating page\n",
        "          db.page_topic.update_one({\"_id\": page[\"_id\"]}, {\"$set\":{\"description\": description}}, upsert = False)\n",
        "        except:\n",
        "          pass\n"
      ],
      "execution_count": 6,
      "outputs": [
        {
          "output_type": "display_data",
          "data": {
            "application/vnd.jupyter.widget-view+json": {
              "model_id": "c4d26c75848d4ddcb3596ca67c856f9a",
              "version_minor": 0,
              "version_major": 2
            },
            "text/plain": [
              "HBox(children=(FloatProgress(value=1.0, bar_style='info', description='Getting description', max=1.0, style=Pr…"
            ]
          },
          "metadata": {
            "tags": []
          }
        },
        {
          "output_type": "stream",
          "text": [
            "\n"
          ],
          "name": "stdout"
        }
      ]
    }
  ]
}